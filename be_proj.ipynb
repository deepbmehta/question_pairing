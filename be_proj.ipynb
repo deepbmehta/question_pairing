{
 "cells": [
  {
   "cell_type": "code",
   "execution_count": 1,
   "metadata": {},
   "outputs": [],
   "source": [
    "import pandas as pd"
   ]
  },
  {
   "cell_type": "code",
   "execution_count": 2,
   "metadata": {
    "scrolled": true
   },
   "outputs": [],
   "source": [
    "data = pd.read_csv(\"train.csv\")"
   ]
  },
  {
   "cell_type": "code",
   "execution_count": 3,
   "metadata": {},
   "outputs": [],
   "source": [
    "data['question1'] = data['question1'].apply(lambda x: str(x))\n",
    "data['question2'] = data['question2'].apply(lambda x: str(x))"
   ]
  },
  {
   "cell_type": "code",
   "execution_count": 4,
   "metadata": {},
   "outputs": [
    {
     "data": {
      "text/html": [
       "<div>\n",
       "<style>\n",
       "    .dataframe thead tr:only-child th {\n",
       "        text-align: right;\n",
       "    }\n",
       "\n",
       "    .dataframe thead th {\n",
       "        text-align: left;\n",
       "    }\n",
       "\n",
       "    .dataframe tbody tr th {\n",
       "        vertical-align: top;\n",
       "    }\n",
       "</style>\n",
       "<table border=\"1\" class=\"dataframe\">\n",
       "  <thead>\n",
       "    <tr style=\"text-align: right;\">\n",
       "      <th></th>\n",
       "      <th>id</th>\n",
       "      <th>qid1</th>\n",
       "      <th>qid2</th>\n",
       "      <th>question1</th>\n",
       "      <th>question2</th>\n",
       "      <th>is_duplicate</th>\n",
       "    </tr>\n",
       "  </thead>\n",
       "  <tbody>\n",
       "    <tr>\n",
       "      <th>0</th>\n",
       "      <td>0</td>\n",
       "      <td>1</td>\n",
       "      <td>2</td>\n",
       "      <td>What is the step by step guide to invest in sh...</td>\n",
       "      <td>What is the step by step guide to invest in sh...</td>\n",
       "      <td>0</td>\n",
       "    </tr>\n",
       "    <tr>\n",
       "      <th>1</th>\n",
       "      <td>1</td>\n",
       "      <td>3</td>\n",
       "      <td>4</td>\n",
       "      <td>What is the story of Kohinoor (Koh-i-Noor) Dia...</td>\n",
       "      <td>What would happen if the Indian government sto...</td>\n",
       "      <td>0</td>\n",
       "    </tr>\n",
       "    <tr>\n",
       "      <th>2</th>\n",
       "      <td>2</td>\n",
       "      <td>5</td>\n",
       "      <td>6</td>\n",
       "      <td>How can I increase the speed of my internet co...</td>\n",
       "      <td>How can Internet speed be increased by hacking...</td>\n",
       "      <td>0</td>\n",
       "    </tr>\n",
       "    <tr>\n",
       "      <th>3</th>\n",
       "      <td>3</td>\n",
       "      <td>7</td>\n",
       "      <td>8</td>\n",
       "      <td>Why am I mentally very lonely? How can I solve...</td>\n",
       "      <td>Find the remainder when [math]23^{24}[/math] i...</td>\n",
       "      <td>0</td>\n",
       "    </tr>\n",
       "    <tr>\n",
       "      <th>4</th>\n",
       "      <td>4</td>\n",
       "      <td>9</td>\n",
       "      <td>10</td>\n",
       "      <td>Which one dissolve in water quikly sugar, salt...</td>\n",
       "      <td>Which fish would survive in salt water?</td>\n",
       "      <td>0</td>\n",
       "    </tr>\n",
       "  </tbody>\n",
       "</table>\n",
       "</div>"
      ],
      "text/plain": [
       "   id  qid1  qid2                                          question1  \\\n",
       "0   0     1     2  What is the step by step guide to invest in sh...   \n",
       "1   1     3     4  What is the story of Kohinoor (Koh-i-Noor) Dia...   \n",
       "2   2     5     6  How can I increase the speed of my internet co...   \n",
       "3   3     7     8  Why am I mentally very lonely? How can I solve...   \n",
       "4   4     9    10  Which one dissolve in water quikly sugar, salt...   \n",
       "\n",
       "                                           question2  is_duplicate  \n",
       "0  What is the step by step guide to invest in sh...             0  \n",
       "1  What would happen if the Indian government sto...             0  \n",
       "2  How can Internet speed be increased by hacking...             0  \n",
       "3  Find the remainder when [math]23^{24}[/math] i...             0  \n",
       "4            Which fish would survive in salt water?             0  "
      ]
     },
     "execution_count": 4,
     "metadata": {},
     "output_type": "execute_result"
    }
   ],
   "source": [
    "data.head()"
   ]
  },
  {
   "cell_type": "code",
   "execution_count": 5,
   "metadata": {},
   "outputs": [],
   "source": [
    "import nltk\n",
    "from nltk.tokenize import word_tokenize,sent_tokenize,PunktSentenceTokenizer,RegexpTokenizer\n",
    "from nltk.corpus import stopwords,state_union\n",
    "from nltk.stem import PorterStemmer,WordNetLemmatizer\n",
    "from nltk.stem.lancaster import LancasterStemmer"
   ]
  },
  {
   "cell_type": "code",
   "execution_count": null,
   "metadata": {},
   "outputs": [],
   "source": []
  },
  {
   "cell_type": "code",
   "execution_count": 6,
   "metadata": {},
   "outputs": [
    {
     "data": {
      "text/plain": [
       "0         What is the step by step guide to invest in sh...\n",
       "1         What is the story of Kohinoor (Koh-i-Noor) Dia...\n",
       "2         How can I increase the speed of my internet co...\n",
       "3         Why am I mentally very lonely? How can I solve...\n",
       "4         Which one dissolve in water quikly sugar, salt...\n",
       "5         Astrology: I am a Capricorn Sun Cap moon and c...\n",
       "6                                       Should I buy tiago?\n",
       "7                            How can I be a good geologist?\n",
       "8                           When do you use シ instead of し?\n",
       "9         Motorola (company): Can I hack my Charter Moto...\n",
       "10        Method to find separation of slits using fresn...\n",
       "11              How do I read and find my YouTube comments?\n",
       "12                     What can make Physics easy to learn?\n",
       "13              What was your first sexual experience like?\n",
       "14        What are the laws to change your status from a...\n",
       "15        What would a Trump presidency mean for current...\n",
       "16                             What does manipulation mean?\n",
       "17        Why do girls want to be friends with the guy t...\n",
       "18        Why are so many Quora users posting questions ...\n",
       "19        Which is the best digital marketing institutio...\n",
       "20                               Why do rockets look white?\n",
       "21                    What's causing someone to be jealous?\n",
       "22          What are the questions should not ask on Quora?\n",
       "23                                 How much is 30 kV in HP?\n",
       "24        What does it mean that every time I look at th...\n",
       "25        What are some tips on making it through the jo...\n",
       "26                                 What is web application?\n",
       "27        Does society place too much importance on sports?\n",
       "28                   What is best way to make money online?\n",
       "29                   How should I prepare for CA final law?\n",
       "                                ...                        \n",
       "404260                     Which phone is best under 12000?\n",
       "404261    Who is the overall most popular Game of Throne...\n",
       "404262            How do you troubleshoot a Toshiba laptop?\n",
       "404263    How does the burning of fossil fuels contribut...\n",
       "404264    Is it safe to store an external battery power ...\n",
       "404265                    How can I gain weight on my body?\n",
       "404266    What is the green dot next to the phone icon o...\n",
       "404267    What are the causes of the fall of the Roman E...\n",
       "404268    Why don't we still do great music like in the ...\n",
       "404269    How do you diagnose antisocial personality dis...\n",
       "404270          What is the difference between who and how?\n",
       "404271    Does Stalin have any grandchildren that are st...\n",
       "404272    What are the best new car products or inventio...\n",
       "404273      What happens if you put milk in a coffee maker?\n",
       "404274    Will the next generation of parenting change o...\n",
       "404275    In accounting, why do we debit expenses and cr...\n",
       "404276                           What is copilotsearch.com?\n",
       "404277                              What does analytics do?\n",
       "404278            How did you prepare for AIIMS/NEET/AIPMT?\n",
       "404279    What is the minimum time required to build a f...\n",
       "404280    What are some outfit ideas to wear to a frat p...\n",
       "404281    Why is Manaphy childish in Pokémon Ranger and ...\n",
       "404282          How does a long distance relationship work?\n",
       "404283    What do you think of the removal of the MagSaf...\n",
       "404284           What does Jainism say about homosexuality?\n",
       "404285    How many keywords are there in the Racket prog...\n",
       "404286            Do you believe there is life after death?\n",
       "404287                                    What is one coin?\n",
       "404288    What is the approx annual cost of living while...\n",
       "404289                What is like to have sex with cousin?\n",
       "Name: question1, Length: 404290, dtype: object"
      ]
     },
     "execution_count": 6,
     "metadata": {},
     "output_type": "execute_result"
    }
   ],
   "source": [
    "data['question1']"
   ]
  },
  {
   "cell_type": "code",
   "execution_count": 7,
   "metadata": {},
   "outputs": [],
   "source": [
    "import re\n",
    "def clean_text(text):\n",
    "\ttext = re.sub(r\"[^A-Za-z0-9^,!.\\/'+-=]\", \" \", text)\n",
    "\ttext = re.sub(r\"what's\", \"what is \", text)\n",
    "\ttext = re.sub(r\"\\'s\", \" \", text)\n",
    "\ttext = re.sub(r\"\\'ve\", \" have \", text)\n",
    "\ttext = re.sub(r\"can't\", \"cannot \", text)\n",
    "\ttext = re.sub(r\"n't\", \" not \", text)\n",
    "\ttext = re.sub(r\"i'm\", \"i am \", text)\n",
    "\ttext = re.sub(r\"\\'re\", \" are \", text)\n",
    "\ttext = re.sub(r\"\\'d\", \" would \", text)\n",
    "\ttext = re.sub(r\"\\'ll\", \" will \", text)\n",
    "\ttext = re.sub(r\",\", \" \", text)\n",
    "\ttext = re.sub(r\"\\.\", \" \", text)\n",
    "\ttext = re.sub(r\"!\", \" ! \", text)\n",
    "\ttext = re.sub(r\"\\/\", \" \", text)\n",
    "\ttext = re.sub(r\"\\^\", \" ^ \", text)\n",
    "\ttext = re.sub(r\"\\+\", \" + \", text)\n",
    "\ttext = re.sub(r\"\\-\", \" - \", text)\n",
    "\ttext = re.sub(r\"\\=\", \" = \", text)\n",
    "\ttext = re.sub(r\"'\", \" \", text)\n",
    "\ttext = re.sub(r\"(\\d+)(k)\", r\"\\g<1>000\", text)\n",
    "\ttext = re.sub(r\":\", \" : \", text)\n",
    "\ttext = re.sub(r\" e g \", \" eg \", text)\n",
    "\ttext = re.sub(r\" b g \", \" bg \", text)\n",
    "\ttext = re.sub(r\" u s \", \" american \", text)\n",
    "\ttext = re.sub(r\"\\0s\", \"0\", text)\n",
    "\ttext = re.sub(r\" 9 11 \", \"911\", text)\n",
    "\ttext = re.sub(r\"e - mail\", \"email\", text)\n",
    "\ttext = re.sub(r\"j k\", \"jk\", text)\n",
    "\ttext = re.sub(r\"\\s{2,}\", \" \", text)\n",
    "\treturn text"
   ]
  },
  {
   "cell_type": "code",
   "execution_count": null,
   "metadata": {},
   "outputs": [],
   "source": [
    "question1 = []\n",
    "question2 = []\n",
    "is_duplicate = []\n",
    "for index, row in data.iterrows():\n",
    "    q1 = str(row['question1'])\n",
    "    q2 = str(row['question2'])\n",
    "    question1_cleaned = clean_text(q1.lower())\n",
    "    question2_cleaned = clean_text(q2.lower())\n",
    "    question1_words = question1_cleaned.split()\n",
    "    question2_words = question2_cleaned.split()\n",
    "    question1_words = [ps.stem(word) for word in question1_words]\n",
    "    question2_words = [ps.stem(word) for word in question2_words]\n",
    "    if len(question1_words)>30 or len(question2_words)>30:\n",
    "        pass\n",
    "    else:\n",
    "        question1.append(question1_words)\n",
    "        question2.append(question2_words)\n",
    "        is_duplicate.append(row['is_duplicate'])\n",
    "zipped_object = zip(question1,question2,is_duplicate)\n",
    "with open('stemmed_split_sentences','w') as myfile:\n",
    "    json.dump(zipped_object,myfile)"
   ]
  },
  {
   "cell_type": "code",
   "execution_count": null,
   "metadata": {},
   "outputs": [],
   "source": [
    "%%time\n",
    "for idx, row in data.iterrows():\n",
    "    data.loc[idx,'question1'] = str(data.loc[idx,'question1']).lower()"
   ]
  },
  {
   "cell_type": "code",
   "execution_count": 8,
   "metadata": {},
   "outputs": [
    {
     "name": "stdout",
     "output_type": "stream",
     "text": [
      "CPU times: user 24 s, sys: 16 ms, total: 24 s\n",
      "Wall time: 24 s\n"
     ]
    }
   ],
   "source": [
    "%%time\n",
    "question1 = data['question1'][0:100000]\n",
    "question2 = data['question2'][0:100000]\n",
    "for i in range(len(question1)):\n",
    "    question1[i] = clean_text(question1[i].lower())\n",
    "    question2[i] = clean_text(question2[i].lower())\n",
    "    "
   ]
  },
  {
   "cell_type": "code",
   "execution_count": 9,
   "metadata": {},
   "outputs": [
    {
     "data": {
      "text/plain": [
       "0     what is the step by step guide to invest in sh...\n",
       "1     what is the story of kohinoor koh - i - noor d...\n",
       "2     how can i increase the speed of my internet co...\n",
       "3     why am i mentally very lonely how can i solve it \n",
       "4     which one dissolve in water quikly sugar salt ...\n",
       "5     astrology : i am a capricorn sun cap moon and ...\n",
       "6                                   should i buy tiago \n",
       "7                        how can i be a good geologist \n",
       "8                           when do you use instead of \n",
       "9     motorola company : can i hack my charter motor...\n",
       "10    method to find separation of slits using fresn...\n",
       "11          how do i read and find my youtube comments \n",
       "12                 what can make physics easy to learn \n",
       "13          what was your first sexual experience like \n",
       "14    what are the laws to change your status from a...\n",
       "15    what would a trump presidency mean for current...\n",
       "16                         what does manipulation mean \n",
       "17    why do girls want to be friends with the guy t...\n",
       "18    why are so many quora users posting questions ...\n",
       "19    which is the best digital marketing institutio...\n",
       "Name: question1, dtype: object"
      ]
     },
     "execution_count": 9,
     "metadata": {},
     "output_type": "execute_result"
    }
   ],
   "source": [
    "question1[0:20]"
   ]
  },
  {
   "cell_type": "code",
   "execution_count": 10,
   "metadata": {},
   "outputs": [
    {
     "name": "stdout",
     "output_type": "stream",
     "text": [
      "CPU times: user 9.61 s, sys: 120 ms, total: 9.73 s\n",
      "Wall time: 9.73 s\n"
     ]
    }
   ],
   "source": [
    "%%time\n",
    "for i in range(len(question1)):\n",
    "    question1[i] = question1[i].split()\n",
    "    question2[i] = question2[i].split()"
   ]
  },
  {
   "cell_type": "code",
   "execution_count": 11,
   "metadata": {},
   "outputs": [
    {
     "data": {
      "text/plain": [
       "['what',\n",
       " 'is',\n",
       " 'the',\n",
       " 'step',\n",
       " 'by',\n",
       " 'step',\n",
       " 'guide',\n",
       " 'to',\n",
       " 'invest',\n",
       " 'in',\n",
       " 'share',\n",
       " 'market',\n",
       " 'in',\n",
       " 'india']"
      ]
     },
     "execution_count": 11,
     "metadata": {},
     "output_type": "execute_result"
    }
   ],
   "source": [
    "question1[0]"
   ]
  },
  {
   "cell_type": "code",
   "execution_count": 12,
   "metadata": {},
   "outputs": [
    {
     "name": "stdout",
     "output_type": "stream",
     "text": [
      "CPU times: user 32.9 s, sys: 96 ms, total: 33 s\n",
      "Wall time: 33.3 s\n"
     ]
    }
   ],
   "source": [
    "%%time\n",
    "lem = WordNetLemmatizer()\n",
    "for i in range(len(question1)):\n",
    "    question1[i] = [lem.lemmatize(word) for word in question1[i]]\n",
    "    question2[i] = [lem.lemmatize(word) for word in question2[i]]"
   ]
  },
  {
   "cell_type": "code",
   "execution_count": 13,
   "metadata": {},
   "outputs": [
    {
     "data": {
      "text/plain": [
       "['why',\n",
       " 'am',\n",
       " 'i',\n",
       " 'mentally',\n",
       " 'very',\n",
       " 'lonely',\n",
       " 'how',\n",
       " 'can',\n",
       " 'i',\n",
       " 'solve',\n",
       " 'it']"
      ]
     },
     "execution_count": 13,
     "metadata": {},
     "output_type": "execute_result"
    }
   ],
   "source": [
    "question1[3]"
   ]
  },
  {
   "cell_type": "code",
   "execution_count": 15,
   "metadata": {},
   "outputs": [
    {
     "name": "stdout",
     "output_type": "stream",
     "text": [
      "CPU times: user 5.99 s, sys: 12 ms, total: 6 s\n",
      "Wall time: 6.01 s\n"
     ]
    }
   ],
   "source": [
    "%%time\n",
    "for i in range(len(question1)):\n",
    "    if(len(question1[i])>30):\n",
    "        question1[i]=question1[i][0:30]\n",
    "    if(len(question2[i])>30):\n",
    "        question2[i]=question2[i][0:30]    "
   ]
  },
  {
   "cell_type": "code",
   "execution_count": 16,
   "metadata": {},
   "outputs": [
    {
     "data": {
      "text/plain": [
       "['why',\n",
       " 'am',\n",
       " 'i',\n",
       " 'mentally',\n",
       " 'very',\n",
       " 'lonely',\n",
       " 'how',\n",
       " 'can',\n",
       " 'i',\n",
       " 'solve',\n",
       " 'it']"
      ]
     },
     "execution_count": 16,
     "metadata": {},
     "output_type": "execute_result"
    }
   ],
   "source": [
    "question1[3]"
   ]
  },
  {
   "cell_type": "code",
   "execution_count": 17,
   "metadata": {},
   "outputs": [],
   "source": [
    "import gzip\n",
    "import gensim \n",
    "import logging\n",
    "logging.basicConfig(format='%(asctime)s : %(levelname)s : %(message)s', level=logging.INFO)"
   ]
  },
  {
   "cell_type": "code",
   "execution_count": 18,
   "metadata": {},
   "outputs": [
    {
     "name": "stderr",
     "output_type": "stream",
     "text": [
      "2018-10-24 22:21:54,520 : INFO : loading projection weights from /home/deep/Desktop/ml/sentiment/GoogleNews-vectors-negative300.bin.gz\n",
      "2018-10-24 22:30:32,860 : INFO : loaded (3000000, 300) matrix from /home/deep/Desktop/ml/sentiment/GoogleNews-vectors-negative300.bin.gz\n"
     ]
    },
    {
     "name": "stdout",
     "output_type": "stream",
     "text": [
      "CPU times: user 4min 30s, sys: 7.13 s, total: 4min 38s\n",
      "Wall time: 8min 40s\n"
     ]
    }
   ],
   "source": [
    "%%time\n",
    "import gensim.models.keyedvectors as word2vec\n",
    "model = word2vec.KeyedVectors.load_word2vec_format('/home/deep/Desktop/ml/sentiment/GoogleNews-vectors-negative300.bin.gz', binary=True)  \n"
   ]
  },
  {
   "cell_type": "code",
   "execution_count": 19,
   "metadata": {},
   "outputs": [
    {
     "name": "stderr",
     "output_type": "stream",
     "text": [
      "/home/deep/Desktop/ml/mlvenv/lib/python3.5/site-packages/ipykernel_launcher.py:1: DeprecationWarning: Call to deprecated `wv` (Attribute will be removed in 4.0.0, use self instead).\n",
      "  \"\"\"Entry point for launching an IPython kernel.\n",
      "/home/deep/Desktop/ml/mlvenv/lib/python3.5/site-packages/ipykernel_launcher.py:1: DeprecationWarning: Call to deprecated `syn0` (Attribute will be removed in 4.0.0, use self.wv.vectors instead).\n",
      "  \"\"\"Entry point for launching an IPython kernel.\n"
     ]
    },
    {
     "data": {
      "text/plain": [
       "(3000000, 300)"
      ]
     },
     "execution_count": 19,
     "metadata": {},
     "output_type": "execute_result"
    }
   ],
   "source": [
    "model.wv.syn0.shape"
   ]
  },
  {
   "cell_type": "code",
   "execution_count": 20,
   "metadata": {},
   "outputs": [],
   "source": [
    "import spacy\n",
    "nlp = spacy.load('en')"
   ]
  },
  {
   "cell_type": "code",
   "execution_count": 27,
   "metadata": {},
   "outputs": [
    {
     "name": "stderr",
     "output_type": "stream",
     "text": [
      "/home/deep/Desktop/ml/mlvenv/lib/python3.5/site-packages/sklearn/feature_extraction/text.py:1089: FutureWarning: Conversion of the second argument of issubdtype from `float` to `np.floating` is deprecated. In future, it will be treated as `np.float64 == np.dtype(float).type`.\n",
      "  if hasattr(X, 'dtype') and np.issubdtype(X.dtype, np.float):\n"
     ]
    }
   ],
   "source": [
    "from sklearn.feature_extraction.text import TfidfVectorizer\n",
    "from sklearn.feature_extraction.text import CountVectorizer\n",
    "df = pd.read_csv(\"train.csv\")\n",
    "\n",
    "questions = list(df['question1'][0:100000]) + list(df['question2'][0:100000])\n",
    "\n",
    "tfidf = TfidfVectorizer(lowercase=False, )\n",
    "tfidf.fit_transform(questions)\n",
    "\n",
    "#dict key:word and value:tf-idf score\n",
    "word2tfidf = dict(zip(tfidf.get_feature_names(), tfidf.idf_))"
   ]
  },
  {
   "cell_type": "code",
   "execution_count": 30,
   "metadata": {},
   "outputs": [
    {
     "data": {
      "text/plain": [
       "2.3607875719386673"
      ]
     },
     "execution_count": 30,
     "metadata": {},
     "output_type": "execute_result"
    }
   ],
   "source": [
    "word2tfidf['is']"
   ]
  },
  {
   "cell_type": "code",
   "execution_count": 33,
   "metadata": {},
   "outputs": [
    {
     "data": {
      "text/plain": [
       "(300,)"
      ]
     },
     "execution_count": 33,
     "metadata": {},
     "output_type": "execute_result"
    }
   ],
   "source": [
    "model['the'].shape"
   ]
  },
  {
   "cell_type": "code",
   "execution_count": 35,
   "metadata": {},
   "outputs": [],
   "source": [
    "import numpy as np\n",
    "import sys\n",
    "def vecReview(sentence):\n",
    "    vec = np.zeros(300 ,dtype='float32')\n",
    "    count=0\n",
    "    for w in sentence:\n",
    "        try:\n",
    "            idf = word2tfidf[str(w)]\n",
    "        except:\n",
    "            #print word\n",
    "            idf = 0\n",
    "        try:\n",
    "            vec += model[w]*idf\n",
    "            count+=1\n",
    "        except Exception as e:\n",
    "            pass\n",
    "    if count ==0:\n",
    "        return vec\n",
    "    else:\n",
    "        return vec/count"
   ]
  },
  {
   "cell_type": "code",
   "execution_count": 37,
   "metadata": {},
   "outputs": [
    {
     "name": "stdout",
     "output_type": "stream",
     "text": [
      "CPU times: user 1min 17s, sys: 4.53 s, total: 1min 22s\n",
      "Wall time: 9min 28s\n"
     ]
    }
   ],
   "source": [
    "%%time\n",
    "train_vec1 = []\n",
    "train_vec2 = []\n",
    "for r in question1:\n",
    "    train_vec1.append(vecReview(r))\n",
    "for r in question2:\n",
    "    train_vec2.append(vecReview(r))    "
   ]
  },
  {
   "cell_type": "code",
   "execution_count": 47,
   "metadata": {},
   "outputs": [
    {
     "data": {
      "text/plain": [
       "100000"
      ]
     },
     "execution_count": 47,
     "metadata": {},
     "output_type": "execute_result"
    }
   ],
   "source": [
    "len(train_vec2)"
   ]
  },
  {
   "cell_type": "code",
   "execution_count": 49,
   "metadata": {},
   "outputs": [],
   "source": [
    "from sklearn.metrics.pairwise import cosine_similarity\n",
    "X_Final = []\n",
    "for i in range(len(train_vec1)):\n",
    "    \n",
    "    X_Final.append(cosine_similarity(train_vec1[i].reshape(1,-1),train_vec2[i].reshape(1,-1)))    "
   ]
  },
  {
   "cell_type": "code",
   "execution_count": 51,
   "metadata": {},
   "outputs": [
    {
     "name": "stdout",
     "output_type": "stream",
     "text": [
      "100000\n"
     ]
    },
    {
     "data": {
      "text/plain": [
       "array([[0.7569449]], dtype=float32)"
      ]
     },
     "execution_count": 51,
     "metadata": {},
     "output_type": "execute_result"
    }
   ],
   "source": [
    "print(len(X_Final))\n",
    "X_Final[2]"
   ]
  },
  {
   "cell_type": "code",
   "execution_count": 52,
   "metadata": {},
   "outputs": [
    {
     "name": "stdout",
     "output_type": "stream",
     "text": [
      "80000\n"
     ]
    }
   ],
   "source": [
    "X_Final_Train = X_Final[0:80000]\n",
    "X_Final_Test = X_Final[80001:]\n",
    "print(len(X_Final_Train))"
   ]
  },
  {
   "cell_type": "code",
   "execution_count": 55,
   "metadata": {},
   "outputs": [
    {
     "data": {
      "text/plain": [
       "19999"
      ]
     },
     "execution_count": 55,
     "metadata": {},
     "output_type": "execute_result"
    }
   ],
   "source": [
    "Y_Train = data['is_duplicate'][0:80000]\n",
    "Y_Test  = data['is_duplicate'][80001:100000]\n",
    "len(Y_Train)\n",
    "len(Y_Test)"
   ]
  },
  {
   "cell_type": "code",
   "execution_count": 64,
   "metadata": {},
   "outputs": [
    {
     "name": "stdout",
     "output_type": "stream",
     "text": [
      "80000\n"
     ]
    }
   ],
   "source": [
    "Y_Train_oneHot = []\n",
    "for i in Y_Train:\n",
    "    v = np.zeros(2,dtype='float32')\n",
    "    if i==0:\n",
    "        v[0]=1\n",
    "    elif i==2:\n",
    "        v[1]=1\n",
    "    Y_Train_oneHot.append(v)    \n",
    "print(len(Y_Train_oneHot)) "
   ]
  },
  {
   "cell_type": "code",
   "execution_count": 60,
   "metadata": {},
   "outputs": [
    {
     "name": "stdout",
     "output_type": "stream",
     "text": [
      "19999\n"
     ]
    }
   ],
   "source": [
    "Y_Test_oneHot = []\n",
    "for i in Y_Test:\n",
    "    v = np.zeros(2,dtype='float32')\n",
    "    if i==0:\n",
    "        v[0]=1\n",
    "    elif i==2:\n",
    "        v[1]=1\n",
    "    Y_Test_oneHot.append(v)    \n",
    "print(len(Y_Test_oneHot)) "
   ]
  },
  {
   "cell_type": "code",
   "execution_count": 63,
   "metadata": {},
   "outputs": [],
   "source": [
    "\n",
    "from xgboost import XGBClassifier\n",
    "from sklearn.model_selection import train_test_split\n",
    "from sklearn.metrics import accuracy_score\n"
   ]
  },
  {
   "cell_type": "code",
   "execution_count": null,
   "metadata": {},
   "outputs": [],
   "source": [
    "model = XGBClassifier()\n",
    "model.fit(X_Final_Train, Y_Train_oneHot)"
   ]
  },
  {
   "cell_type": "code",
   "execution_count": null,
   "metadata": {},
   "outputs": [],
   "source": [
    "y_pred = model.predict(X_Final_Test)\n",
    "predictions = [round(value) for value in y_pred]"
   ]
  },
  {
   "cell_type": "code",
   "execution_count": null,
   "metadata": {},
   "outputs": [],
   "source": []
  }
 ],
 "metadata": {
  "kernelspec": {
   "display_name": "mlvenv",
   "language": "python",
   "name": "mlvenv"
  },
  "language_info": {
   "codemirror_mode": {
    "name": "ipython",
    "version": 3
   },
   "file_extension": ".py",
   "mimetype": "text/x-python",
   "name": "python",
   "nbconvert_exporter": "python",
   "pygments_lexer": "ipython3",
   "version": "3.5.2"
  }
 },
 "nbformat": 4,
 "nbformat_minor": 2
}
